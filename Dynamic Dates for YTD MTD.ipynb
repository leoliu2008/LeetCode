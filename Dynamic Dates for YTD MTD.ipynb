{
 "cells": [
  {
   "cell_type": "code",
   "execution_count": 1,
   "metadata": {},
   "outputs": [
    {
     "name": "stdout",
     "output_type": "stream",
     "text": [
      "20190101\n"
     ]
    }
   ],
   "source": [
    "import pandas as pd\n",
    "from pandas.tseries import offsets\n",
    "from pandas.tseries.offsets import BMonthEnd\n",
    "\n",
    "from datetime import date\n",
    "\n",
    "d = date.today().strftime (\"%Y%m%d\")\n",
    "offset = BMonthEnd()\n",
    "\n",
    "#report_date\n",
    "report_date = offset.rollback(d).strftime (\"%Y%m%d\")\n",
    "\n",
    "#month_end\n",
    "month_end = (pd.to_datetime(report_date) - pd.offsets.BMonthEnd()).strftime (\"%Y%m%d\")\n",
    "\n",
    "#quarter_end\n",
    "quarter_end = (pd.to_datetime(report_date) - pd.offsets.BQuarterEnd()).strftime (\"%Y%m%d\")\n",
    "\n",
    "#ytd\n",
    "ytd = (pd.to_datetime(report_date) - pd.offsets.BYearBegin()).strftime (\"%Y%m%d\")\n",
    "\n",
    "print(ytd)\n"
   ]
  }
 ],
 "metadata": {
  "kernelspec": {
   "display_name": "Python 3",
   "language": "python",
   "name": "python3"
  },
  "language_info": {
   "codemirror_mode": {
    "name": "ipython",
    "version": 3
   },
   "file_extension": ".py",
   "mimetype": "text/x-python",
   "name": "python",
   "nbconvert_exporter": "python",
   "pygments_lexer": "ipython3",
   "version": "3.6.7"
  }
 },
 "nbformat": 4,
 "nbformat_minor": 2
}
