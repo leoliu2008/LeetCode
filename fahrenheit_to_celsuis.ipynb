{
 "cells": [
  {
   "cell_type": "markdown",
   "metadata": {},
   "source": [
    "# print Fucntion"
   ]
  },
  {
   "cell_type": "code",
   "execution_count": 1,
   "metadata": {},
   "outputs": [],
   "source": [
    "def fahrenheit_to_celsuis(temp):\n",
    "    \"\"\"converts Fahrenheit temperature to Celsius\n",
    "    formula is 5/9 of temp minus 32 \"\"\"\n",
    "    \n",
    "    # note that this line is not executed\n",
    "    # end='' keeps print from starting a new line\n",
    "    newTemp = 5 * (temp -32) / 9\n",
    "    print(\"The Fahrenheit temperature\", temp, \"is equivalent to\", newTemp, end ='')\n",
    "    print(\" degree Celsius\")\n",
    "    "
   ]
  },
  {
   "cell_type": "code",
   "execution_count": 2,
   "metadata": {},
   "outputs": [
    {
     "name": "stdout",
     "output_type": "stream",
     "text": [
      "The Fahrenheit temperature 212 is equivalent to 100.0 degree Celsius\n"
     ]
    }
   ],
   "source": [
    "fahrenheit_to_celsuis(212)"
   ]
  },
  {
   "cell_type": "markdown",
   "metadata": {},
   "source": [
    "# input Function"
   ]
  },
  {
   "cell_type": "code",
   "execution_count": 10,
   "metadata": {},
   "outputs": [],
   "source": [
    "def name():\n",
    "    \"\"\"Input first and last name, combine to one string and print\"\"\"\n",
    "    fname = input(\"Enter your first name \")\n",
    "    lname = input(\"Enter your last name \")\n",
    "    fullname = fname+ \" \"+ lname\n",
    "    print(\"Your name is:\", fullname)"
   ]
  },
  {
   "cell_type": "code",
   "execution_count": 12,
   "metadata": {},
   "outputs": [
    {
     "name": "stdout",
     "output_type": "stream",
     "text": [
      "Enter your first name Daniel\n",
      "Enter your last name Liu\n",
      "Your name is: Daniel Liu\n"
     ]
    }
   ],
   "source": [
    "name()"
   ]
  },
  {
   "cell_type": "markdown",
   "metadata": {},
   "source": [
    "# while loop"
   ]
  },
  {
   "cell_type": "code",
   "execution_count": 14,
   "metadata": {},
   "outputs": [],
   "source": [
    "def cheer():\n",
    "    ct = 2\n",
    "    while ct <= 8:\n",
    "        print(ct, end=\" \")\n",
    "        ct = ct + 2\n",
    "    print()\n",
    "    print(\"who we do appreciate\")\n",
    "    print(\"Coursera!\")"
   ]
  },
  {
   "cell_type": "code",
   "execution_count": 16,
   "metadata": {},
   "outputs": [
    {
     "name": "stdout",
     "output_type": "stream",
     "text": [
      "2 4 6 8 \n",
      "who we do appreciate\n",
      "Coursera!\n"
     ]
    }
   ],
   "source": [
    "cheer()"
   ]
  },
  {
   "cell_type": "code",
   "execution_count": 34,
   "metadata": {},
   "outputs": [],
   "source": [
    "def count_down():\n",
    "    \"\"\"Rocket count down routine\"\"\"\n",
    "    ct = 10\n",
    "    while ct > 0:\n",
    "        print(ct, end =\" \")\n",
    "        ct = ct -1\n",
    "    print()       \n",
    "    print(\"BLASTOFF!\")"
   ]
  },
  {
   "cell_type": "code",
   "execution_count": 35,
   "metadata": {},
   "outputs": [
    {
     "name": "stdout",
     "output_type": "stream",
     "text": [
      "10 9 8 7 6 5 4 3 2 1 \n",
      "BLASTOFF!\n"
     ]
    }
   ],
   "source": [
    "count_down()"
   ]
  },
  {
   "cell_type": "code",
   "execution_count": null,
   "metadata": {},
   "outputs": [],
   "source": []
  },
  {
   "cell_type": "code",
   "execution_count": null,
   "metadata": {},
   "outputs": [],
   "source": []
  }
 ],
 "metadata": {
  "kernelspec": {
   "display_name": "Python 3",
   "language": "python",
   "name": "python3"
  },
  "language_info": {
   "codemirror_mode": {
    "name": "ipython",
    "version": 3
   },
   "file_extension": ".py",
   "mimetype": "text/x-python",
   "name": "python",
   "nbconvert_exporter": "python",
   "pygments_lexer": "ipython3",
   "version": "3.6.7"
  }
 },
 "nbformat": 4,
 "nbformat_minor": 2
}
