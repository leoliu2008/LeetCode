{
 "cells": [
  {
   "cell_type": "code",
   "execution_count": 46,
   "metadata": {},
   "outputs": [],
   "source": [
    "class Solution(object):\n",
    "    def findcontetntChildren(self,g,s):\n",
    "        \"\"\"\n",
    "        g is the greed of childern. For example, g=[1,2,2,3], meaning 4 children with min greed/appetite (measured by the size of the cookies) in 1, 2, 2, 3\n",
    "        s is the cookies available. For example, s=[1,2,1,3,5,5,6]  means 7 cookies with size in 1, 2, 1, 3, 5, 5, 6\n",
    "        \"\"\"\n",
    "        g.sort()\n",
    "        s.sort()\n",
    "        \n",
    "        child_index=0\n",
    "        cookie_index=0\n",
    "\n",
    "        print('size of cookie: ' +str(sorted(s)) + ' with length of ' + str(len(s)))\n",
    "\n",
    "        print('size of greedy children: ' +str(sorted(g)) + ' with length of ' + str(len(g)))\n",
    "\n",
    "\n",
    "        while cookie_index <= len(s) - 1 and child_index <= len(g)-1:\n",
    "            print(cookie_index,child_index, s[cookie_index],g[child_index] )\n",
    "            \n",
    "            if s[cookie_index] >= g[child_index]:\n",
    "                child_index +=1\n",
    "                print(\"updated_child_index: \" + str(child_index))\n",
    "            \n",
    "            cookie_index +=1          \n",
    "            print(\"updated_cookie_index: \" + str(cookie_index), '\\n')\n",
    "        \n",
    "        return child_index\n",
    "        "
   ]
  },
  {
   "cell_type": "code",
   "execution_count": 48,
   "metadata": {},
   "outputs": [
    {
     "name": "stdout",
     "output_type": "stream",
     "text": [
      "size of cookie: [1, 1, 2, 3, 5, 5, 6] with length of 7\n",
      "size of greedy children: [1, 2, 5, 7, 8] with length of 5\n",
      "0 0 1 1\n",
      "updated_child_index: 1\n",
      "updated_cookie_index: 1 \n",
      "\n",
      "1 1 1 2\n",
      "updated_cookie_index: 2 \n",
      "\n",
      "2 1 2 2\n",
      "updated_child_index: 2\n",
      "updated_cookie_index: 3 \n",
      "\n",
      "3 2 3 5\n",
      "updated_cookie_index: 4 \n",
      "\n",
      "4 2 5 5\n",
      "updated_child_index: 3\n",
      "updated_cookie_index: 5 \n",
      "\n",
      "5 3 5 7\n",
      "updated_cookie_index: 6 \n",
      "\n",
      "6 3 6 7\n",
      "updated_cookie_index: 7 \n",
      "\n"
     ]
    },
    {
     "data": {
      "text/plain": [
       "3"
      ]
     },
     "execution_count": 48,
     "metadata": {},
     "output_type": "execute_result"
    }
   ],
   "source": [
    "Solution().findcontetntChildren([1,2,7,8,5],[1,2,1,3,5,5,6])"
   ]
  },
  {
   "cell_type": "code",
   "execution_count": 3,
   "metadata": {},
   "outputs": [
    {
     "data": {
      "text/plain": [
       "1"
      ]
     },
     "execution_count": 3,
     "metadata": {},
     "output_type": "execute_result"
    }
   ],
   "source": [
    "Solution().findcontetntChildren([1,2,3],[1,1])"
   ]
  }
 ],
 "metadata": {
  "kernelspec": {
   "display_name": "Python 3",
   "language": "python",
   "name": "python3"
  },
  "language_info": {
   "codemirror_mode": {
    "name": "ipython",
    "version": 3
   },
   "file_extension": ".py",
   "mimetype": "text/x-python",
   "name": "python",
   "nbconvert_exporter": "python",
   "pygments_lexer": "ipython3",
   "version": "3.6.7"
  }
 },
 "nbformat": 4,
 "nbformat_minor": 2
}
