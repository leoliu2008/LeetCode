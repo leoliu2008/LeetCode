{
  "cells": [
    {
      "metadata": {
        "trusted": true
      },
      "cell_type": "code",
      "source": "# class Solution(object):\n#     def singleNonDuplicate(self, nums):\n#         \"\"\"\n#         :type nums: List[int]\n#         :rtype: int\n#         \"\"\"\n#         left, right = 0, len(nums)-1\n#         while left < right:\n#             mid = (left + right) // 2\n#             if mid%2 ==1:\n#                 mid += 1\n#             if nums[mid]==nums[mid+1]:\n#                 left = mid +2\n#             else:\n#                 right = mid\n#         return num(mid)",
      "execution_count": null,
      "outputs": []
    },
    {
      "metadata": {
        "trusted": true
      },
      "cell_type": "code",
      "source": "class Solution(object):\n    def singleNonDuplicate(self, nums):\n        \"\"\"\n        :type nums: List[int]\n        :rtype: int\n        \"\"\"\n        l, r = 0, len(nums) - 1\n        while(l < r):\n            m = (l + r) // 2\n            print(l,r,m)\n            \n            if m % 2 == 0:\n                print('m is even number')\n                if nums[m] != nums[m + 1]:\n                    #this means m is on the right hand of the target\n                    r = m\n                    print('move r to' + str(r))\n                else:\n                    #this means m is on the left hand of the target\n                    l = m + 1\n                    print('move l to' + str(l))\n            else:\n                print('m is odd number')\n                if nums[m] != nums[m - 1]:\n                    #this means m is on the right hand of the target\n                    r = m\n                    print('move r to' + str(r))\n                else:\n                    #this means m is on the left hand of the target\n                    l = m + 1\n                    print('move l to' + str(l))\n                    \n        return nums[l]",
      "execution_count": 19,
      "outputs": []
    },
    {
      "metadata": {
        "trusted": true
      },
      "cell_type": "code",
      "source": "Solution().singleNonDuplicate([1,1,2,3,3,4,4,8,8])",
      "execution_count": 20,
      "outputs": [
        {
          "output_type": "stream",
          "text": "0 8 4\nm is even number\nmove r to4\n0 4 2\nm is even number\nmove r to2\n0 2 1\nm is odd number\nmove l to2\n",
          "name": "stdout"
        },
        {
          "output_type": "execute_result",
          "execution_count": 20,
          "data": {
            "text/plain": "2"
          },
          "metadata": {}
        }
      ]
    },
    {
      "metadata": {
        "trusted": true
      },
      "cell_type": "code",
      "source": "",
      "execution_count": null,
      "outputs": []
    }
  ],
  "metadata": {
    "kernelspec": {
      "name": "python3",
      "display_name": "Python 3",
      "language": "python"
    },
    "language_info": {
      "mimetype": "text/x-python",
      "nbconvert_exporter": "python",
      "name": "python",
      "pygments_lexer": "ipython3",
      "version": "3.5.4",
      "file_extension": ".py",
      "codemirror_mode": {
        "version": 3,
        "name": "ipython"
      }
    }
  },
  "nbformat": 4,
  "nbformat_minor": 1
}