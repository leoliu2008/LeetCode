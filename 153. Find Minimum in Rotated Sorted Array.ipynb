{
  "cells": [
    {
      "metadata": {
        "trusted": true
      },
      "cell_type": "code",
      "source": "class Solution(object):\n    def findMin(self, nums):\n        if not nums:\n            return -1\n\n        low, high = 0, len(nums) - 1\n        mid = (low + high) // 2\n\n        while low < high:\n            print(low, mid, high)\n            if nums[mid] > nums[mid + 1]:\n                print('spot on')\n                return nums[mid + 1]\n            elif nums[mid] > nums[high]:\n                low = mid + 1\n                print('change low to '+ str(low))\n            else:\n                high = mid\n                print('change high to '+str(high))\n            mid = (low + high) // 2\n\n        return nums[mid]",
      "execution_count": 19,
      "outputs": []
    },
    {
      "metadata": {
        "trusted": true
      },
      "cell_type": "code",
      "source": "Solution().findMin([4,5,6,7,8,9,10,0,1,2])",
      "execution_count": 20,
      "outputs": [
        {
          "output_type": "stream",
          "text": "0 4 9\nchange low to 5\n5 7 9\nchange high to 7\n5 6 7\nspot on\n",
          "name": "stdout"
        },
        {
          "output_type": "execute_result",
          "execution_count": 20,
          "data": {
            "text/plain": "0"
          },
          "metadata": {}
        }
      ]
    },
    {
      "metadata": {
        "trusted": true
      },
      "cell_type": "code",
      "source": "",
      "execution_count": null,
      "outputs": []
    }
  ],
  "metadata": {
    "kernelspec": {
      "name": "python36",
      "display_name": "Python 3.6",
      "language": "python"
    },
    "language_info": {
      "mimetype": "text/x-python",
      "nbconvert_exporter": "python",
      "name": "python",
      "pygments_lexer": "ipython3",
      "version": "3.6.6",
      "file_extension": ".py",
      "codemirror_mode": {
        "version": 3,
        "name": "ipython"
      }
    }
  },
  "nbformat": 4,
  "nbformat_minor": 2
}