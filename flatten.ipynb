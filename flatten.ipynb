{
 "cells": [
  {
   "cell_type": "code",
   "execution_count": 12,
   "metadata": {},
   "outputs": [
    {
     "data": {
      "text/plain": [
       "[1, 2, 3, 4, 5, 6, 7, 8]"
      ]
     },
     "execution_count": 12,
     "metadata": {},
     "output_type": "execute_result"
    }
   ],
   "source": [
    "a = [1, 2, [3, 4], [[5, 6], [7, 8]]]\n",
    "\n",
    "fn = lambda x: [y for l in x for y in fn(l)] if type(x) is list else [x]\n",
    "\n",
    "fn(a)"
   ]
  },
  {
   "cell_type": "code",
   "execution_count": 9,
   "metadata": {},
   "outputs": [
    {
     "name": "stdout",
     "output_type": "stream",
     "text": [
      "this does NOT work (as we miss the 2nd layer. See below) - [1, 2, 3, 4, [5, 6], [7, 8]]\n",
      "this does work - [1, 2, 3, 4]\n"
     ]
    }
   ],
   "source": [
    "a = [1, \n",
    "     2, \n",
    "     [3, 4], \n",
    "     [[5, 6], [7, 8]]\n",
    "    ]\n",
    "\n",
    "b= [1, \n",
    "    2, \n",
    "    [3, 4]\n",
    "   ]\n",
    "\n",
    "\n",
    "##see the inserted loop (1st layer)-it can take care of [3,4] within a and b as shown above\n",
    "def f(x):\n",
    "    ls=[]\n",
    "    if type(x) is list:\n",
    "        for l in x:\n",
    "            \n",
    "            #######FRIST layer of looped function\n",
    "            if type(l) is list:\n",
    "                for y in l:\n",
    "                    ls.append(y)\n",
    "            else:\n",
    "                ls.append(l)\n",
    "             #######FRIST layer of looped function\n",
    "\n",
    "    else:\n",
    "         ls.append(x)\n",
    "    return ls \n",
    "\n",
    "print('this does NOT work (as we miss the 2nd layer. See below) - ' + str(f(a)))\n",
    "print('this does work - ' + str(f(b)))\n"
   ]
  },
  {
   "cell_type": "code",
   "execution_count": 13,
   "metadata": {},
   "outputs": [
    {
     "name": "stdout",
     "output_type": "stream",
     "text": [
      "this DOES work - [1, 2, 3, 4, 5, 6, 7, 8]\n",
      "this DOES work - [1, 2, 3, 4]\n"
     ]
    }
   ],
   "source": [
    "a = [1, \n",
    "     2, \n",
    "     [3, 4], \n",
    "     [[5, 6], [7, 8]]\n",
    "    ]\n",
    "\n",
    "b= [1, \n",
    "    2, \n",
    "    [3, 4]\n",
    "   ]\n",
    "\n",
    "\n",
    "##see the inserted loop (2nd layer)-it can take care of [[5, 6], [7, 8]] within a and b as shown above\n",
    "\n",
    "\n",
    "def f(x):\n",
    "    ls=[]\n",
    "    if type(x) is list:\n",
    "        for l in x:\n",
    "            \n",
    "            \n",
    "            #######FIRST layer of looped function (start)\n",
    "            if type(l) is list:\n",
    "                for y in l:\n",
    "                    \n",
    "                    #######SECOND layer of looped function (start)\n",
    "                    if type(y) is list:\n",
    "                        for z in y:\n",
    "                            ls.append(z)\n",
    "                    else:\n",
    "                        ls.append(y)\n",
    "                    #######SECOND layer of looped function (end)\n",
    "\n",
    "            else:\n",
    "                ls.append(l)\n",
    "             #######FIRST layer of looped function (end)\n",
    "\n",
    "    else:\n",
    "         ls.append(x)\n",
    "    return ls \n",
    "\n",
    "print('this DOES work - ' + str(f(a)))\n",
    "print('this DOES work - ' + str(f(b)))"
   ]
  },
  {
   "cell_type": "code",
   "execution_count": null,
   "metadata": {},
   "outputs": [],
   "source": []
  }
 ],
 "metadata": {
  "kernelspec": {
   "display_name": "Python 3",
   "language": "python",
   "name": "python3"
  },
  "language_info": {
   "codemirror_mode": {
    "name": "ipython",
    "version": 3
   },
   "file_extension": ".py",
   "mimetype": "text/x-python",
   "name": "python",
   "nbconvert_exporter": "python",
   "pygments_lexer": "ipython3",
   "version": "3.6.7"
  }
 },
 "nbformat": 4,
 "nbformat_minor": 2
}
