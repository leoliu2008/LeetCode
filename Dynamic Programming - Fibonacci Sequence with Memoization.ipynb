{
  "cells": [
    {
      "metadata": {
        "trusted": true
      },
      "cell_type": "code",
      "source": "# A naive recursive solution\ndef fib(n):\n    if n == 1 or n == 2:\n        result = 1\n    else:\n        result = fib(n-1) + fib(n-2)\n    return result",
      "execution_count": 1,
      "outputs": []
    },
    {
      "metadata": {
        "trusted": true
      },
      "cell_type": "code",
      "source": "# A memoized solution\ndef fib_2(n, memo):\n    if memo[n] is not None:\n        return memo[n]\n    if n == 1 or n == 2:\n        result = 1\n    else:\n        result = fib_2(n-1, memo) + fib_2(n-2, memo)\n    memo[n] = result\n    return result\n\ndef fib_memo(n):\n    memo = [None] * (n + 1)\n    return fib_2(n, memo)",
      "execution_count": 2,
      "outputs": []
    },
    {
      "metadata": {
        "trusted": true
      },
      "cell_type": "code",
      "source": "# A bottom-up solution\ndef fib_bottom_up(n):\n    if n == 1 or n == 2:\n        return 1\n    bottom_up = [None] * (n+1)\n    bottom_up[1] = 1\n    bottom_up[2] = 1\n    for i in range(3, n+1):\n        bottom_up[i] = bottom_up[i-1] + bottom_up[i-2]\n    return bottom_up[n]",
      "execution_count": 3,
      "outputs": []
    },
    {
      "metadata": {
        "trusted": true
      },
      "cell_type": "code",
      "source": "fib_memo(15)",
      "execution_count": 6,
      "outputs": [
        {
          "output_type": "execute_result",
          "execution_count": 6,
          "data": {
            "text/plain": "610"
          },
          "metadata": {}
        }
      ]
    },
    {
      "metadata": {
        "trusted": true
      },
      "cell_type": "code",
      "source": "",
      "execution_count": null,
      "outputs": []
    }
  ],
  "metadata": {
    "kernelspec": {
      "name": "python36",
      "display_name": "Python 3.6",
      "language": "python"
    },
    "language_info": {
      "mimetype": "text/x-python",
      "nbconvert_exporter": "python",
      "name": "python",
      "pygments_lexer": "ipython3",
      "version": "3.6.6",
      "file_extension": ".py",
      "codemirror_mode": {
        "version": 3,
        "name": "ipython"
      }
    }
  },
  "nbformat": 4,
  "nbformat_minor": 1
}