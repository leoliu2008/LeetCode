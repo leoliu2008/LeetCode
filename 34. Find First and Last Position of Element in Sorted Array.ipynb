{
  "cells": [
    {
      "metadata": {
        "trusted": true
      },
      "cell_type": "code",
      "source": "class Solution(object):\n    def searchRange(self, nums, target):\n        \"\"\"\n        :type nums: List[int]\n        :type target: int\n        :rtype: List[int]\n        \"\"\"\n        \n        def get_start_index(nums, target):\n            start, end = 0, len(nums) - 1\n            while start <= end:\n                mid = start + (end - start) // 2\n                if nums[mid] == target:\n                    if mid == 0 or nums[mid-1] != target:\n                        return mid\n                if nums[mid] < target:\n                    start = mid + 1\n                else:\n                    end = mid - 1\n            return -1\n        \n        def get_end_index(nums, target):\n            start, end = 0, len(nums) - 1\n            while start <= end:\n                mid = start + (end - start)//2\n                if nums[mid] == target: \n                    if mid == len(nums)-1 or nums[mid + 1] != target:\n                        return mid\n                if nums[mid] <= target:\n                    start = mid + 1\n                else:\n                    end = mid - 1\n            return -1\n        \n        return [get_start_index(nums, target), get_end_index(nums, target)]",
      "execution_count": 1,
      "outputs": []
    },
    {
      "metadata": {
        "trusted": true
      },
      "cell_type": "code",
      "source": "Solution().searchRange([5,7,7,8,8,10],8)",
      "execution_count": 2,
      "outputs": [
        {
          "output_type": "execute_result",
          "execution_count": 2,
          "data": {
            "text/plain": "[3, 4]"
          },
          "metadata": {}
        }
      ]
    }
  ],
  "metadata": {
    "kernelspec": {
      "name": "python36",
      "display_name": "Python 3.6",
      "language": "python"
    },
    "language_info": {
      "mimetype": "text/x-python",
      "nbconvert_exporter": "python",
      "name": "python",
      "pygments_lexer": "ipython3",
      "version": "3.6.6",
      "file_extension": ".py",
      "codemirror_mode": {
        "version": 3,
        "name": "ipython"
      }
    }
  },
  "nbformat": 4,
  "nbformat_minor": 2
}