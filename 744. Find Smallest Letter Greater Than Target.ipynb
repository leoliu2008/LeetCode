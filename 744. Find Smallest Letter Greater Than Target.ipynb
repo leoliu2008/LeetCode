{
  "cells": [
    {
      "metadata": {
        "trusted": true
      },
      "cell_type": "code",
      "source": "class Solution(object):\n    def nextGreatestLetter(self, letters, target):\n        \"\"\"\n        :type letters: List[str]\n        :type target: str\n        :rtype: str\n        \"\"\"\n        #Binary Search\n        \n        left, right = 0, len(letters)\n        \n        while left < right:\n            mid = (left + right) // 2\n            print(left, right, mid)\n            \n            if target  >= letters[mid]:\n                left = mid + 1\n                print('new left='+str(left))\n            else:\n                right = mid\n                print('new right='+str(right))\n        letters.append(letters[0])\n        return letters[left]\n        ",
      "execution_count": 9,
      "outputs": []
    },
    {
      "metadata": {
        "trusted": true
      },
      "cell_type": "code",
      "source": "Solution().nextGreatestLetter([\"a\",\"c\",\"f\",\"h\",\"l\"],\"j\")",
      "execution_count": 10,
      "outputs": [
        {
          "output_type": "stream",
          "text": "0 5 2\nnew left=3\n3 5 4\nnew right=4\n3 4 3\nnew left=4\n",
          "name": "stdout"
        },
        {
          "output_type": "execute_result",
          "execution_count": 10,
          "data": {
            "text/plain": "'l'"
          },
          "metadata": {}
        }
      ]
    },
    {
      "metadata": {
        "trusted": true
      },
      "cell_type": "code",
      "source": "",
      "execution_count": null,
      "outputs": []
    }
  ],
  "metadata": {
    "kernelspec": {
      "name": "python3",
      "display_name": "Python 3",
      "language": "python"
    },
    "language_info": {
      "mimetype": "text/x-python",
      "nbconvert_exporter": "python",
      "name": "python",
      "file_extension": ".py",
      "version": "3.5.4",
      "pygments_lexer": "ipython3",
      "codemirror_mode": {
        "version": 3,
        "name": "ipython"
      }
    }
  },
  "nbformat": 4,
  "nbformat_minor": 1
}